{
 "cells": [
  {
   "cell_type": "markdown",
   "id": "196e2197-3ab4-4801-a53d-a546590ebc73",
   "metadata": {},
   "source": [
    "## Multi-armed bandit experiments"
   ]
  },
  {
   "cell_type": "markdown",
   "id": "838238da-c4fd-401a-abbe-200c615b3c8f",
   "metadata": {},
   "source": [
    "## The Multi-Armed Bandit Problem"
   ]
  },
  {
   "cell_type": "markdown",
   "id": "c4970b1e-7204-4ce6-98b6-eb23d2fbdf09",
   "metadata": {
    "tags": []
   },
   "source": [
    "\n",
    "#### Suppose you are faced with N slot machines (colourfully called multi-armed bandits). Each bandit has an unknown probability of distributing a prize (assume for now the prizes are the same for each bandit, only the probabilities differ). Some bandits are very generous, others not so much. Of course, you don't know what these probabilities are. By only choosing one bandit per round, our task is devise a strategy to maximize our winnings."
   ]
  },
  {
   "cell_type": "code",
   "execution_count": 3,
   "id": "37a38932-85e8-4633-acb1-b263ca68dd19",
   "metadata": {},
   "outputs": [],
   "source": [
    "# from pymc import rbeta\n",
    "from pymc3 import Beta\n",
    "import numpy as np\n",
    "\n",
    "rand = np.random.rand\n",
    "\n",
    "class Bandits(object):\n",
    "    \"\"\"\n",
    "    This class represents N bandits machines.\n",
    "    parameters:\n",
    "        p_array: a (n,) Numpy array of probabilities >0, <1.\n",
    "    methods:\n",
    "        pull( i ): return the results, 0 or 1, of pulling \n",
    "                   the ith bandit.\n",
    "    \"\"\"\n",
    "    def __init__(self, p_array):\n",
    "        self.p = p_array\n",
    "        self.optimal = np.argmax(p_array)\n",
    "        \n",
    "    def pull( self, i ):\n",
    "        #i is which arm to pull\n",
    "        return rand() < self.p[i]\n",
    "    \n",
    "    def __len__(self):\n",
    "        return len(self.p)\n",
    "\n",
    "    \n",
    "class BayesianStrategy( object ):\n",
    "    \"\"\"\n",
    "    Implements a online, learning strategy to solve\n",
    "    the Multi-Armed Bandit problem.\n",
    "    \n",
    "    parameters:\n",
    "        bandits: a Bandit class with .pull method\n",
    "    \n",
    "    methods:\n",
    "        sample_bandits(n): sample and train on n pulls.\n",
    "    attributes:\n",
    "        N: the cumulative number of samples\n",
    "        choices: the historical choices as a (N,) array\n",
    "        bb_score: the historical score as a (N,) array\n",
    "    \"\"\"\n",
    "    \n",
    "    def __init__(self, bandits):\n",
    "        \n",
    "        self.bandits = bandits\n",
    "        n_bandits = len( self.bandits )\n",
    "        self.wins = np.zeros( n_bandits )\n",
    "        self.trials = np.zeros(n_bandits )\n",
    "        self.N = 0\n",
    "        self.choices = []\n",
    "        self.bb_score = []\n",
    "\n",
    "    \n",
    "    def sample_bandits( self, n=1 ):\n",
    "        \n",
    "        bb_score = np.zeros( n )\n",
    "        choices = np.zeros( n )\n",
    "        \n",
    "        for k in range(n):\n",
    "            #sample from the bandits's priors, and select the largest sample\n",
    "            choice = np.argmax( Beta( 1 + self.wins, 1 + self.trials - self.wins) )\n",
    "            \n",
    "            #sample the chosen bandit\n",
    "            result = self.bandits.pull( choice )\n",
    "            \n",
    "            #update priors and score\n",
    "            self.wins[ choice ] += result\n",
    "            self.trials[ choice ] += 1\n",
    "            bb_score[ k ] = result \n",
    "            self.N += 1\n",
    "            choices[ k ] = choice\n",
    "            \n",
    "        self.bb_score = np.r_[ self.bb_score, bb_score ]\n",
    "        self.choices = np.r_[ self.choices, choices ]\n",
    "        return "
   ]
  },
  {
   "cell_type": "code",
   "execution_count": null,
   "id": "178bfd66-5dc4-43ea-be38-1ae16b8670fb",
   "metadata": {},
   "outputs": [],
   "source": []
  },
  {
   "cell_type": "code",
   "execution_count": null,
   "id": "fa8e68e1-3831-4a63-b2d6-b3c44369fc16",
   "metadata": {},
   "outputs": [],
   "source": []
  }
 ],
 "metadata": {
  "kernelspec": {
   "display_name": "Python 3 (ipykernel)",
   "language": "python",
   "name": "python3"
  },
  "language_info": {
   "codemirror_mode": {
    "name": "ipython",
    "version": 3
   },
   "file_extension": ".py",
   "mimetype": "text/x-python",
   "name": "python",
   "nbconvert_exporter": "python",
   "pygments_lexer": "ipython3",
   "version": "3.9.12"
  }
 },
 "nbformat": 4,
 "nbformat_minor": 5
}
